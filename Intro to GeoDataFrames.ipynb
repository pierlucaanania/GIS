{
 "cells": [
  {
   "cell_type": "code",
   "execution_count": 1,
   "id": "125684fb",
   "metadata": {},
   "outputs": [],
   "source": [
    "import pandas as pd\n",
    "import geopandas as gpd\n",
    "from shapely.geometry import Point, Polygon\n",
    "from mpl_toolkits.basemap import Basemap\n",
    "import matplotlib.pyplot as plt\n",
    "from geopy.geocoders import Nominatim, GoogleV3\n",
    "\n",
    "%matplotlib inline"
   ]
  },
  {
   "cell_type": "code",
   "execution_count": 2,
   "id": "c07c0027",
   "metadata": {},
   "outputs": [
    {
     "data": {
      "text/html": [
       "<div>\n",
       "<style scoped>\n",
       "    .dataframe tbody tr th:only-of-type {\n",
       "        vertical-align: middle;\n",
       "    }\n",
       "\n",
       "    .dataframe tbody tr th {\n",
       "        vertical-align: top;\n",
       "    }\n",
       "\n",
       "    .dataframe thead th {\n",
       "        text-align: right;\n",
       "    }\n",
       "</style>\n",
       "<table border=\"1\" class=\"dataframe\">\n",
       "  <thead>\n",
       "    <tr style=\"text-align: right;\">\n",
       "      <th></th>\n",
       "      <th>STATE_NAME</th>\n",
       "      <th>DRAWSEQ</th>\n",
       "      <th>STATE_FIPS</th>\n",
       "      <th>SUB_REGION</th>\n",
       "      <th>STATE_ABBR</th>\n",
       "      <th>geometry</th>\n",
       "    </tr>\n",
       "  </thead>\n",
       "  <tbody>\n",
       "    <tr>\n",
       "      <th>0</th>\n",
       "      <td>Hawaii</td>\n",
       "      <td>1</td>\n",
       "      <td>15</td>\n",
       "      <td>Pacific</td>\n",
       "      <td>HI</td>\n",
       "      <td>MULTIPOLYGON (((-160.07380 22.00418, -160.0497...</td>\n",
       "    </tr>\n",
       "    <tr>\n",
       "      <th>1</th>\n",
       "      <td>Washington</td>\n",
       "      <td>2</td>\n",
       "      <td>53</td>\n",
       "      <td>Pacific</td>\n",
       "      <td>WA</td>\n",
       "      <td>MULTIPOLYGON (((-122.40202 48.22522, -122.4628...</td>\n",
       "    </tr>\n",
       "    <tr>\n",
       "      <th>2</th>\n",
       "      <td>Montana</td>\n",
       "      <td>3</td>\n",
       "      <td>30</td>\n",
       "      <td>Mountain</td>\n",
       "      <td>MT</td>\n",
       "      <td>POLYGON ((-111.47543 44.70216, -111.48080 44.6...</td>\n",
       "    </tr>\n",
       "    <tr>\n",
       "      <th>3</th>\n",
       "      <td>Maine</td>\n",
       "      <td>4</td>\n",
       "      <td>23</td>\n",
       "      <td>New England</td>\n",
       "      <td>ME</td>\n",
       "      <td>MULTIPOLYGON (((-69.77728 44.07415, -69.85993 ...</td>\n",
       "    </tr>\n",
       "    <tr>\n",
       "      <th>4</th>\n",
       "      <td>North Dakota</td>\n",
       "      <td>5</td>\n",
       "      <td>38</td>\n",
       "      <td>West North Central</td>\n",
       "      <td>ND</td>\n",
       "      <td>POLYGON ((-98.73044 45.93827, -99.00683 45.939...</td>\n",
       "    </tr>\n",
       "  </tbody>\n",
       "</table>\n",
       "</div>"
      ],
      "text/plain": [
       "     STATE_NAME  DRAWSEQ STATE_FIPS          SUB_REGION STATE_ABBR  \\\n",
       "0        Hawaii        1         15             Pacific         HI   \n",
       "1    Washington        2         53             Pacific         WA   \n",
       "2       Montana        3         30            Mountain         MT   \n",
       "3         Maine        4         23         New England         ME   \n",
       "4  North Dakota        5         38  West North Central         ND   \n",
       "\n",
       "                                            geometry  \n",
       "0  MULTIPOLYGON (((-160.07380 22.00418, -160.0497...  \n",
       "1  MULTIPOLYGON (((-122.40202 48.22522, -122.4628...  \n",
       "2  POLYGON ((-111.47543 44.70216, -111.48080 44.6...  \n",
       "3  MULTIPOLYGON (((-69.77728 44.07415, -69.85993 ...  \n",
       "4  POLYGON ((-98.73044 45.93827, -99.00683 45.939...  "
      ]
     },
     "execution_count": 2,
     "metadata": {},
     "output_type": "execute_result"
    }
   ],
   "source": [
    "#opening shapefile\n",
    "\n",
    "path = '/home/pier/Desktop/Python/GIS/GISfile/states.shp'\n",
    "states = gpd.read_file(path)\n",
    "states.head()"
   ]
  },
  {
   "cell_type": "code",
   "execution_count": 3,
   "id": "4540d365",
   "metadata": {},
   "outputs": [
    {
     "name": "stdout",
     "output_type": "stream",
     "text": [
      "<class 'geopandas.geodataframe.GeoDataFrame'>\n",
      "RangeIndex: 51 entries, 0 to 50\n",
      "Data columns (total 6 columns):\n",
      " #   Column      Non-Null Count  Dtype   \n",
      "---  ------      --------------  -----   \n",
      " 0   STATE_NAME  51 non-null     object  \n",
      " 1   DRAWSEQ     51 non-null     int64   \n",
      " 2   STATE_FIPS  51 non-null     object  \n",
      " 3   SUB_REGION  51 non-null     object  \n",
      " 4   STATE_ABBR  51 non-null     object  \n",
      " 5   geometry    51 non-null     geometry\n",
      "dtypes: geometry(1), int64(1), object(4)\n",
      "memory usage: 2.5+ KB\n"
     ]
    }
   ],
   "source": [
    "states.info()"
   ]
  },
  {
   "cell_type": "code",
   "execution_count": 4,
   "id": "58b49104",
   "metadata": {},
   "outputs": [
    {
     "data": {
      "text/plain": [
       "<AxesSubplot:>"
      ]
     },
     "execution_count": 4,
     "metadata": {},
     "output_type": "execute_result"
    },
    {
     "data": {
      "image/png": "[encoded data removed]",
      "text/plain": [
       "<Figure size 432x288 with 1 Axes>"
      ]
     },
     "metadata": {
      "needs_background": "light"
     },
     "output_type": "display_data"
    }
   ],
   "source": [
    "states.plot()"
   ]
  },
  {
   "cell_type": "markdown",
   "id": "1fb29008",
   "metadata": {},
   "source": [
    "### Opening CSV file ###\n",
    "\n",
    "1. Opening up the CSV with Pandas\n",
    "2. We'll take lat/long from the csv and feed it to shapely, which creates a Point\n",
    "3. Original dataframe and geometry together  --> GeoDataFrame\n",
    "4. Tell the new GeoDataFrame that coords are lat/lon"
   ]
  },
  {
   "cell_type": "code",
   "execution_count": 8,
   "id": "c5711a11",
   "metadata": {},
   "outputs": [
    {
     "data": {
      "text/html": [
       "<div>\n",
       "<style scoped>\n",
       "    .dataframe tbody tr th:only-of-type {\n",
       "        vertical-align: middle;\n",
       "    }\n",
       "\n",
       "    .dataframe tbody tr th {\n",
       "        vertical-align: top;\n",
       "    }\n",
       "\n",
       "    .dataframe thead th {\n",
       "        text-align: right;\n",
       "    }\n",
       "</style>\n",
       "<table border=\"1\" class=\"dataframe\">\n",
       "  <thead>\n",
       "    <tr style=\"text-align: right;\">\n",
       "      <th></th>\n",
       "      <th>population</th>\n",
       "      <th>country</th>\n",
       "      <th>name</th>\n",
       "      <th>lat</th>\n",
       "      <th>long</th>\n",
       "      <th>countrycode</th>\n",
       "      <th>continent</th>\n",
       "    </tr>\n",
       "  </thead>\n",
       "  <tbody>\n",
       "    <tr>\n",
       "      <th>0</th>\n",
       "      <td>2.4</td>\n",
       "      <td>Brazil</td>\n",
       "      <td>Brasilia</td>\n",
       "      <td>-15.783333</td>\n",
       "      <td>-47.916667</td>\n",
       "      <td>BR</td>\n",
       "      <td>South America</td>\n",
       "    </tr>\n",
       "    <tr>\n",
       "      <th>1</th>\n",
       "      <td>6.7</td>\n",
       "      <td>Colombia</td>\n",
       "      <td>Bogota</td>\n",
       "      <td>4.600000</td>\n",
       "      <td>-74.083333</td>\n",
       "      <td>CO</td>\n",
       "      <td>South America</td>\n",
       "    </tr>\n",
       "    <tr>\n",
       "      <th>2</th>\n",
       "      <td>7.8</td>\n",
       "      <td>Egypt</td>\n",
       "      <td>Cairo</td>\n",
       "      <td>30.050000</td>\n",
       "      <td>31.250000</td>\n",
       "      <td>EG</td>\n",
       "      <td>Africa</td>\n",
       "    </tr>\n",
       "    <tr>\n",
       "      <th>3</th>\n",
       "      <td>2.2</td>\n",
       "      <td>France</td>\n",
       "      <td>Paris</td>\n",
       "      <td>48.866667</td>\n",
       "      <td>2.333333</td>\n",
       "      <td>FR</td>\n",
       "      <td>Europe</td>\n",
       "    </tr>\n",
       "    <tr>\n",
       "      <th>4</th>\n",
       "      <td>3.8</td>\n",
       "      <td>Iraq</td>\n",
       "      <td>Baghdad</td>\n",
       "      <td>33.333333</td>\n",
       "      <td>44.400000</td>\n",
       "      <td>IQ</td>\n",
       "      <td>Asia</td>\n",
       "    </tr>\n",
       "  </tbody>\n",
       "</table>\n",
       "</div>"
      ],
      "text/plain": [
       "   population   country      name        lat       long countrycode  \\\n",
       "0         2.4    Brazil  Brasilia -15.783333 -47.916667          BR   \n",
       "1         6.7  Colombia    Bogota   4.600000 -74.083333          CO   \n",
       "2         7.8     Egypt     Cairo  30.050000  31.250000          EG   \n",
       "3         2.2    France     Paris  48.866667   2.333333          FR   \n",
       "4         3.8      Iraq   Baghdad  33.333333  44.400000          IQ   \n",
       "\n",
       "       continent  \n",
       "0  South America  \n",
       "1  South America  \n",
       "2         Africa  \n",
       "3         Europe  \n",
       "4           Asia  "
      ]
     },
     "execution_count": 8,
     "metadata": {},
     "output_type": "execute_result"
    }
   ],
   "source": [
    "df = pd.read_csv('GISfile/capitals.csv')\n",
    "df.head()"
   ]
  },
  {
   "cell_type": "markdown",
   "id": "a6cfcaf4",
   "metadata": {},
   "source": [
    "We want to convert Lat/Long"
   ]
  },
  {
   "cell_type": "code",
   "execution_count": 21,
   "id": "3d9aeb8e",
   "metadata": {},
   "outputs": [
    {
     "data": {
      "text/plain": [
       "0     POINT (-47.916667 -15.783333333333331)\n",
       "1                     POINT (-74.083333 4.6)\n",
       "2                        POINT (31.25 30.05)\n",
       "3         POINT (2.333333 48.86666666666667)\n",
       "4            POINT (44.4 33.333333333333336)\n",
       "5                   POINT (126.983333 37.55)\n",
       "6      POINT (-99.133333 19.433333333333334)\n",
       "7       POINT (85.316667 27.716666666666665)\n",
       "8        POINT (-9.133333 38.71666666666667)\n",
       "9                      POINT (-77 38.883333)\n",
       "10                 POINT (-56.166667 -34.85)\n",
       "dtype: object"
      ]
     },
     "execution_count": 21,
     "metadata": {},
     "output_type": "execute_result"
    }
   ],
   "source": [
    "points = df.apply(lambda row: Point(row.long, row.lat), axis = 1)\n",
    "points"
   ]
  },
  {
   "cell_type": "markdown",
   "id": "4c16e336",
   "metadata": {},
   "source": [
    "We obtain point for every single point in dataframe, create a geodataframe:"
   ]
  },
  {
   "cell_type": "code",
   "execution_count": 34,
   "id": "39e7377e",
   "metadata": {},
   "outputs": [
    {
     "name": "stderr",
     "output_type": "stream",
     "text": [
      "/home/pier/.local/lib/python3.10/site-packages/pyproj/crs/crs.py:141: FutureWarning: '+init=<authority>:<code>' syntax is deprecated. '<authority>:<code>' is the preferred initialization method. When making the change, be mindful of axis order changes: https://pyproj4.github.io/pyproj/stable/gotchas.html#axis-order-changes-in-proj-6\n",
      "  in_crs_string = _prepare_from_proj_string(in_crs_string)\n"
     ]
    },
    {
     "data": {
      "text/html": [
       "<div>\n",
       "<style scoped>\n",
       "    .dataframe tbody tr th:only-of-type {\n",
       "        vertical-align: middle;\n",
       "    }\n",
       "\n",
       "    .dataframe tbody tr th {\n",
       "        vertical-align: top;\n",
       "    }\n",
       "\n",
       "    .dataframe thead th {\n",
       "        text-align: right;\n",
       "    }\n",
       "</style>\n",
       "<table border=\"1\" class=\"dataframe\">\n",
       "  <thead>\n",
       "    <tr style=\"text-align: right;\">\n",
       "      <th></th>\n",
       "      <th>population</th>\n",
       "      <th>country</th>\n",
       "      <th>name</th>\n",
       "      <th>lat</th>\n",
       "      <th>long</th>\n",
       "      <th>countrycode</th>\n",
       "      <th>continent</th>\n",
       "      <th>geometry</th>\n",
       "    </tr>\n",
       "  </thead>\n",
       "  <tbody>\n",
       "    <tr>\n",
       "      <th>0</th>\n",
       "      <td>2.4</td>\n",
       "      <td>Brazil</td>\n",
       "      <td>Brasilia</td>\n",
       "      <td>-15.783333</td>\n",
       "      <td>-47.916667</td>\n",
       "      <td>BR</td>\n",
       "      <td>South America</td>\n",
       "      <td>POINT (-47.91667 -15.78333)</td>\n",
       "    </tr>\n",
       "    <tr>\n",
       "      <th>1</th>\n",
       "      <td>6.7</td>\n",
       "      <td>Colombia</td>\n",
       "      <td>Bogota</td>\n",
       "      <td>4.600000</td>\n",
       "      <td>-74.083333</td>\n",
       "      <td>CO</td>\n",
       "      <td>South America</td>\n",
       "      <td>POINT (-74.08333 4.60000)</td>\n",
       "    </tr>\n",
       "    <tr>\n",
       "      <th>2</th>\n",
       "      <td>7.8</td>\n",
       "      <td>Egypt</td>\n",
       "      <td>Cairo</td>\n",
       "      <td>30.050000</td>\n",
       "      <td>31.250000</td>\n",
       "      <td>EG</td>\n",
       "      <td>Africa</td>\n",
       "      <td>POINT (31.25000 30.05000)</td>\n",
       "    </tr>\n",
       "    <tr>\n",
       "      <th>3</th>\n",
       "      <td>2.2</td>\n",
       "      <td>France</td>\n",
       "      <td>Paris</td>\n",
       "      <td>48.866667</td>\n",
       "      <td>2.333333</td>\n",
       "      <td>FR</td>\n",
       "      <td>Europe</td>\n",
       "      <td>POINT (2.33333 48.86667)</td>\n",
       "    </tr>\n",
       "    <tr>\n",
       "      <th>4</th>\n",
       "      <td>3.8</td>\n",
       "      <td>Iraq</td>\n",
       "      <td>Baghdad</td>\n",
       "      <td>33.333333</td>\n",
       "      <td>44.400000</td>\n",
       "      <td>IQ</td>\n",
       "      <td>Asia</td>\n",
       "      <td>POINT (44.40000 33.33333)</td>\n",
       "    </tr>\n",
       "  </tbody>\n",
       "</table>\n",
       "</div>"
      ],
      "text/plain": [
       "   population   country      name        lat       long countrycode  \\\n",
       "0         2.4    Brazil  Brasilia -15.783333 -47.916667          BR   \n",
       "1         6.7  Colombia    Bogota   4.600000 -74.083333          CO   \n",
       "2         7.8     Egypt     Cairo  30.050000  31.250000          EG   \n",
       "3         2.2    France     Paris  48.866667   2.333333          FR   \n",
       "4         3.8      Iraq   Baghdad  33.333333  44.400000          IQ   \n",
       "\n",
       "       continent                     geometry  \n",
       "0  South America  POINT (-47.91667 -15.78333)  \n",
       "1  South America    POINT (-74.08333 4.60000)  \n",
       "2         Africa    POINT (31.25000 30.05000)  \n",
       "3         Europe     POINT (2.33333 48.86667)  \n",
       "4           Asia    POINT (44.40000 33.33333)  "
      ]
     },
     "execution_count": 34,
     "metadata": {},
     "output_type": "execute_result"
    }
   ],
   "source": [
    "capitals = gpd.GeoDataFrame(df, geometry = points) #create the geometry column using points\n",
    "capitals.crs = {'init': 'epsg:4326'} #to set long/lat in geometry\n",
    "capitals.head()"
   ]
  },
  {
   "cell_type": "code",
   "execution_count": 42,
   "id": "ff3250c6",
   "metadata": {},
   "outputs": [
    {
     "data": {
      "text/plain": [
       "<AxesSubplot:>"
      ]
     },
     "execution_count": 42,
     "metadata": {},
     "output_type": "execute_result"
    },
    {
     "data": {
      "image/png": "[encoded data removed]",
      "text/plain": [
       "<Figure size 432x288 with 1 Axes>"
      ]
     },
     "metadata": {
      "needs_background": "light"
     },
     "output_type": "display_data"
    }
   ],
   "source": [
    "capitals.plot()"
   ]
  },
  {
   "cell_type": "markdown",
   "id": "ce535942",
   "metadata": {},
   "source": [
    "## GENERIC STEP TO DO EACH TIME\n",
    "\n",
    "### 1. Read in our csv as a pandas dataframe: ###\n",
    "df = pd.read_csv('GISfile/capitals.csv')\n",
    "### 2. Created shapely Points from our lat/long \n",
    "points = df.apply(lambda row: Point(row.long, row.lat), axis = 1)\n",
    "### 3. Make a GeoDataFrame out of df + new points\n",
    "capitals = gpd.GeoDataFrame(df, geometry = points) #create the geometry column using points\n",
    "### 4. Confirmed for the geodataframe that we're using lat/long\n",
    "capitals.crs = {'init': 'epsg:4326'} #to set long/lat in geometry"
   ]
  },
  {
   "cell_type": "code",
   "execution_count": null,
   "id": "5e952518",
   "metadata": {},
   "outputs": [],
   "source": []
  }
 ],
 "metadata": {
  "kernelspec": {
   "display_name": "Python 3 (ipykernel)",
   "language": "python",
   "name": "python3"
  },
  "language_info": {
   "codemirror_mode": {
    "name": "ipython",
    "version": 3
   },
   "file_extension": ".py",
   "mimetype": "text/x-python",
   "name": "python",
   "nbconvert_exporter": "python",
   "pygments_lexer": "ipython3",
   "version": "3.10.6"
  }
 },
 "nbformat": 4,
 "nbformat_minor": 5
}
